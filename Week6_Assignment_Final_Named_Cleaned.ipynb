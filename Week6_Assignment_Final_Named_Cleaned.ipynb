{
 "cells": [
  {
   "cell_type": "code",
   "execution_count": null,
   "id": "20054ede",
   "metadata": {},
   "outputs": [],
   "source": [
    "import pandas as pd\n",
    "from importlib.machinery import SourceFileLoader\n",
    "\n",
    "# Load modules\n",
    "heap_module = SourceFileLoader(\"heap\", \"/mnt/data/heap.py\").load_module()\n",
    "cdll_module = SourceFileLoader(\"circularDoublyLinkedList\", \"/mnt/data/circularDoublyLinkedList_final.py\").load_module()\n",
    "\n",
    "# Load Excel data\n",
    "df = pd.read_excel(\"/mnt/data/birthday.xlsx\")\n",
    "df[\"생년월일\"] = df[\"생년월일8자리(예.20040101)\"].astype(str).str[:8]\n",
    "df.head()\n"
   ]
  },
  {
   "cell_type": "code",
   "execution_count": null,
   "id": "5610cfc5",
   "metadata": {},
   "outputs": [
    {
     "name": "stdout",
     "output_type": "stream",
     "text": [
      "✅ 생일이 느린 순서로 10명 (Heap 사용):\n",
      "홍서연: 20241282\n",
      "신수민: 20051230\n",
      "이서영: 20051225\n",
      "강민주: 20051214\n",
      "김민경: 20051202\n",
      "이서영: 20051112\n",
      "배시은: 20051102\n",
      "김여원: 20051031\n",
      "이서진: 20051028\n",
      "서홍빈: 20051024"
     ]
    }
   ],
   "source": [
    "heap = heap_module.Heap()\n",
    "for _, row in df.iterrows():\n",
    "    heap.insert((row[\"생년월일\"], row[\"이름\"]))\n",
    "\n",
    "print(\"✅ 생일이 느린 순서로 10명 (Heap 사용):\")\n",
    "for _ in range(10):\n",
    "    생일, 이름 = heap.deleteMax()\n",
    "    print(f\"{이름}: {생일}\")\n"
   ]
  },
  {
   "cell_type": "markdown",
   "id": "29bf82ba",
   "metadata": {},
   "source": [
    "## 3. 생일 데이터를 교재 코드(heap.py)를 이용해 힙으로 저장하고, 생일이 느린 순서로 10명의 친구를 출력하는 코드를 작성한다. 실행 결과가 셀에 나타나야 한다."
   ]
  },
  {
   "cell_type": "code",
   "execution_count": null,
   "id": "617f9a9a",
   "metadata": {},
   "outputs": [
    {
     "name": "stdout",
     "output_type": "stream",
     "text": [
      "✅ 같은 조 친구들 출력 (CDLL 사용):\n",
      "권보은: 20041004\n",
      "김승연: 20030124\n",
      "김주원: 20030110\n",
      "서홍빈: 20051024\n",
      "은유빈: 20040503\n",
      "이서영: 20051112\n",
      "이서영: 20051225\n",
      "이아현: 20010904\n",
      "이예은: 20030109\n",
      "임성민: 20021213"
     ]
    }
   ],
   "source": [
    "cdll = cdll_module.CircularDoublyLinkedList()\n",
    "for _, row in df.iterrows():\n",
    "    cdll.append((row[\"이름\"], row[\"생년월일\"]))\n",
    "\n",
    "my_group = ['권보은', '김승연', '이서영', '이아현', '임성민',\n",
    "            '은유빈', '이예은', '정예은', '김주원', '서홍빈']\n",
    "\n",
    "print(\"✅ 같은 조 친구들 출력 (CDLL 사용):\")\n",
    "for 이름, 생일 in cdll:\n",
    "    if 이름 in my_group:\n",
    "        print(f\"{이름}: {생일}\")\n"
   ]
  },
  {
   "cell_type": "markdown",
   "id": "2ae6ca69",
   "metadata": {},
   "source": [
    "## 4. 생일 데이터를 교재 코드(circularDoublyLinkedList.py)를 이용해 리스트로 저장하고, 같은 조(지난 과제 지정 조원 참조)의 친구들만 이름과 생년월일을 출력하는 코드를 작성한다. 실행 결과가 셀에 나타나야 한다."
   ]
  },
  {
   "cell_type": "markdown",
   "id": "1b09ea3c",
   "metadata": {},
   "source": [
    "## 5. 교재 8장 우선 순위 큐 연습문제\n",
    "\n",
    "**01**  \n",
    "가능하다.  \n",
    "최대 힙에서는 부모 노드가 자식 노드보다 크기만 하면 되므로, 더 깊은 위치에 있는 값이 얕은 위치보다 더 클 수 있다.\n",
    "\n",
    "**02**  \n",
    "항상 그렇지 않다.  \n",
    "A[n-1]은 단지 마지막에 삽입된 노드일 뿐이며, 최소값이라는 보장은 없다.\n",
    "\n",
    "**03**  \n",
    "정답: ⌊n/2⌋개  \n",
    "전체 노드 중 리프 노드는 자식이 없으므로 `percolateDown()`을 수행하지 않는다.\n",
    "\n",
    "**04**  \n",
    "- 최악: Θ(log n) — 루트에서 끝까지 내려가는 경우  \n",
    "- 최선: Θ(1) — 루트가 이미 자식보다 클 경우\n",
    "\n",
    "**05**  \n",
    "간단하다.  \n",
    "리스트의 끝 요소는 pop()으로 바로 삭제할 수 있으며, 힙 속성을 유지할 필요 없음.\n",
    "\n",
    "**06**  \n",
    "덜 효율적이다.  \n",
    "스며오르기는 노드 하나씩 삽입하며 O(n log n)이고, 아래에서 스며내리는 buildHeap()은 O(n)이다.\n",
    "\n",
    "**07**  \n",
    "방법: 값이 증가했을 경우, 해당 노드에서 위로 `percolateUp()`을 수행하면 O(log n) 시간에 힙을 복원할 수 있다.\n",
    "\n",
    "---\n",
    "\n",
    "## 6. LeetCode 703. Kth Largest Element in a Stream  \n",
    "문제 설명: 정수 스트림에서 k번째로 큰 원소를 유지하는 클래스를 구현하시오.\n"
   ]
  },
  {
   "cell_type": "code",
   "execution_count": null,
   "id": "04303f5a",
   "metadata": {},
   "outputs": [],
   "source": [
    "import heapq\n",
    "\n",
    "class KthLargest:\n",
    "\n",
    "    def __init__(self, k: int, nums: list[int]):\n",
    "        self.k = k\n",
    "        self.heap = nums\n",
    "        heapq.heapify(self.heap)\n",
    "        while len(self.heap) > k:\n",
    "            heapq.heappop(self.heap)\n",
    "\n",
    "    def add(self, val: int) -> int:\n",
    "        heapq.heappush(self.heap, val)\n",
    "        if len(self.heap) > self.k:\n",
    "            heapq.heappop(self.heap)\n",
    "        return self.heap[0]\n",
    "\n",
    "# 테스트 예시\n",
    "kth = KthLargest(3, [4, 5, 8, 2])\n",
    "print(kth.add(3))  # 4\n",
    "print(kth.add(5))  # 5\n",
    "print(kth.add(10)) # 5\n",
    "print(kth.add(9))  # 8\n",
    "print(kth.add(4))  # 8\n"
   ]
  }
 ],
 "metadata": {
  "kernelspec": {
   "display_name": "Python 3",
   "name": "python3"
  },
  "language_info": {
   "name": "python",
   "version": "3.11"
  }
 },
 "nbformat": 4,
 "nbformat_minor": 5
}
