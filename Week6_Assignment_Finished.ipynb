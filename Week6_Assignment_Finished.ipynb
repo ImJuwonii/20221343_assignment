{
 "cells": [
  {
   "cell_type": "markdown",
   "id": "e791813a",
   "metadata": {},
   "source": [
    "## Week 6 Assignment\n",
    "이번 주 과제 - 힙과 원형 이중 연결리스트 활용"
   ]
  },
  {
   "cell_type": "code",
   "execution_count": null,
   "id": "c6aa8f4d",
   "metadata": {},
   "outputs": [],
   "source": [
    "import pandas as pd\n",
    "df = pd.read_csv('birthday.csv')\n",
    "df['생년월일'] = df['생년월일8자리(예.20040101)'].astype(str).str[:8]"
   ]
  },
  {
   "cell_type": "markdown",
   "id": "723418b2",
   "metadata": {},
   "source": [
    "### 3번. heap.py를 이용해 생일이 느린 순서로 10명 출력"
   ]
  },
  {
   "cell_type": "code",
   "execution_count": null,
   "id": "23cf8169",
   "metadata": {},
   "outputs": [],
   "source": [
    "\n",
    "class Heap:\n",
    "    def __init__(self, *args):\n",
    "        if len(args) != 0:\n",
    "            self.__A = args[0]\n",
    "        else:\n",
    "            self.__A = []\n",
    "\n",
    "    def insert(self, x):\n",
    "        self.__A.append(x)\n",
    "        self.__percolateUp(len(self.__A)-1)\n",
    "\n",
    "    def __percolateUp(self, i: int):\n",
    "        parent = (i - 1) // 2\n",
    "        if i > 0 and self.__A[i] > self.__A[parent]:\n",
    "            self.__A[i], self.__A[parent] = self.__A[parent], self.__A[i]\n",
    "            self.__percolateUp(parent)\n",
    "\n",
    "    def deleteMax(self):\n",
    "        if not self.isEmpty():\n",
    "            max_item = self.__A[0]\n",
    "            self.__A[0] = self.__A.pop()\n",
    "            self.__percolateDown(0)\n",
    "            return max_item\n",
    "        else:\n",
    "            return None\n",
    "\n",
    "    def __percolateDown(self, i: int):\n",
    "        child = 2 * i + 1\n",
    "        right = 2 * i + 2\n",
    "        if child <= len(self.__A) - 1:\n",
    "            if right <= len(self.__A) - 1 and self.__A[child] < self.__A[right]:\n",
    "                child = right\n",
    "            if self.__A[i] < self.__A[child]:\n",
    "                self.__A[i], self.__A[child] = self.__A[child], self.__A[i]\n",
    "                self.__percolateDown(child)\n",
    "\n",
    "    def isEmpty(self):\n",
    "        return len(self.__A) == 0\n",
    "\n",
    "heap = Heap()\n",
    "for _, row in df.iterrows():\n",
    "    heap.insert((row[\"생년월일\"], row[\"이름\"]))\n",
    "\n",
    "for _ in range(10):\n",
    "    생일, 이름 = heap.deleteMax()\n",
    "    print(f\"{이름}: {생일}\")\n",
    "    "
   ]
  },
  {
   "cell_type": "code",
   "execution_count": null,
   "id": "65067f20",
   "metadata": {},
   "outputs": [],
   "source": [
    "\n",
    "class Node:\n",
    "    def __init__(self, item=None, prev=None, next=None):\n",
    "        self.item = item\n",
    "        self.prev = prev\n",
    "        self.next = next\n",
    "\n",
    "class CircularDoublyLinkedList:\n",
    "    def __init__(self):\n",
    "        self.head = Node(\"dummy\")\n",
    "        self.head.prev = self.head\n",
    "        self.head.next = self.head\n",
    "        self.numItems = 0\n",
    "\n",
    "    def append(self, newItem):\n",
    "        prev = self.head.prev\n",
    "        newNode = Node(newItem, prev, self.head)\n",
    "        prev.next = newNode\n",
    "        self.head.prev = newNode\n",
    "        self.numItems += 1\n",
    "\n",
    "    def __iter__(self):\n",
    "        curr = self.head.next\n",
    "        while curr != self.head:\n",
    "            yield curr.item\n",
    "            curr = curr.next\n",
    "\n",
    "cdll = CircularDoublyLinkedList()\n",
    "for _, row in df.iterrows():\n",
    "    cdll.append((row[\"이름\"], row[\"생년월일\"]))\n",
    "\n",
    "my_group = ['강다원', '강민주', '강윤서']\n",
    "for 이름, 생일 in cdll:\n",
    "    if 이름 in my_group:\n",
    "        print(f\"{'{'}이름{'}'}: {'{'}생일{'}'}\")\n",
    "    "
   ]
  }
 ],
 "metadata": {
  "kernelspec": {
   "display_name": "Python 3",
   "name": "python3"
  }
 },
 "nbformat": 4,
 "nbformat_minor": 5
}
