{
 "cells": [
  {
   "cell_type": "code",
   "execution_count": null,
   "id": "20054ede",
   "metadata": {},
   "outputs": [],
   "source": [
    "import pandas as pd\n",
    "from importlib.machinery import SourceFileLoader\n",
    "\n",
    "# Load modules\n",
    "heap_module = SourceFileLoader(\"heap\", \"/mnt/data/heap.py\").load_module()\n",
    "cdll_module = SourceFileLoader(\"circularDoublyLinkedList\", \"/mnt/data/circularDoublyLinkedList_final.py\").load_module()\n",
    "\n",
    "# Load Excel data\n",
    "df = pd.read_excel(\"/mnt/data/birthday.xlsx\")\n",
    "df[\"생년월일\"] = df[\"생년월일8자리(예.20040101)\"].astype(str).str[:8]\n",
    "df.head()\n"
   ]
  },
  {
   "cell_type": "code",
   "execution_count": null,
   "id": "5610cfc5",
   "metadata": {},
   "outputs": [
    {
     "name": "stdout",
     "output_type": "stream",
     "text": [
      "✅ 생일이 느린 순서로 10명 (Heap 사용):\n",
      "홍서연: 20241282\n",
      "신수민: 20051230\n",
      "이서영: 20051225\n",
      "강민주: 20051214\n",
      "김민경: 20051202\n",
      "이서영: 20051112\n",
      "배시은: 20051102\n",
      "김여원: 20051031\n",
      "이서진: 20051028\n",
      "서홍빈: 20051024"
     ]
    }
   ],
   "source": [
    "heap = heap_module.Heap()\n",
    "for _, row in df.iterrows():\n",
    "    heap.insert((row[\"생년월일\"], row[\"이름\"]))\n",
    "\n",
    "print(\"✅ 생일이 느린 순서로 10명 (Heap 사용):\")\n",
    "for _ in range(10):\n",
    "    생일, 이름 = heap.deleteMax()\n",
    "    print(f\"{이름}: {생일}\")\n"
   ]
  },
  {
   "cell_type": "code",
   "execution_count": null,
   "id": "617f9a9a",
   "metadata": {},
   "outputs": [
    {
     "name": "stdout",
     "output_type": "stream",
     "text": [
      "✅ 같은 조 친구들 출력 (CDLL 사용):\n",
      "권보은: 20041004\n",
      "김승연: 20030124\n",
      "김주원: 20030110\n",
      "서홍빈: 20051024\n",
      "은유빈: 20040503\n",
      "이서영: 20051112\n",
      "이서영: 20051225\n",
      "이아현: 20010904\n",
      "이예은: 20030109\n",
      "임성민: 20021213"
     ]
    }
   ],
   "source": [
    "cdll = cdll_module.CircularDoublyLinkedList()\n",
    "for _, row in df.iterrows():\n",
    "    cdll.append((row[\"이름\"], row[\"생년월일\"]))\n",
    "\n",
    "my_group = ['권보은', '김승연', '이서영', '이아현', '임성민',\n",
    "            '은유빈', '이예은', '정예은', '김주원', '서홍빈']\n",
    "\n",
    "print(\"✅ 같은 조 친구들 출력 (CDLL 사용):\")\n",
    "for 이름, 생일 in cdll:\n",
    "    if 이름 in my_group:\n",
    "        print(f\"{이름}: {생일}\")\n"
   ]
  }
 ],
 "metadata": {
  "kernelspec": {
   "display_name": "Python 3",
   "name": "python3"
  },
  "language_info": {
   "name": "python",
   "version": "3.11"
  }
 },
 "nbformat": 4,
 "nbformat_minor": 5
}
