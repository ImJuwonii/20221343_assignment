{
 "cells": [
  {
   "cell_type": "markdown",
   "id": "d48e80e1",
   "metadata": {},
   "source": [
    "# LMS 6주차 과제"
   ]
  },
  {
   "cell_type": "code",
   "execution_count": null,
   "id": "a3ae0bc0",
   "metadata": {},
   "outputs": [],
   "source": [
    "import csv\n",
    "from datetime import datetime\n",
    "from heap import Heap\n",
    "from circularDoublyLinkedList import CircularDoublyLinkedList"
   ]
  },
  {
   "cell_type": "markdown",
   "id": "b826fbe8",
   "metadata": {},
   "source": [
    "## 3. 생일 데이터를 힙으로 저장하고, 생일이 느린 순서로 10명 출력"
   ]
  },
  {
   "cell_type": "code",
   "execution_count": null,
   "id": "844fc17a",
   "metadata": {},
   "outputs": [],
   "source": [
    "\n",
    "# 생일 데이터를 불러오기\n",
    "birthday_list = []\n",
    "with open(\"DS_Birthdaydata - 시트1.csv\", encoding=\"utf-8\") as file:\n",
    "    reader = csv.DictReader(file)\n",
    "    for row in reader:\n",
    "        name = row[\"name\"]\n",
    "        birth = datetime.strptime(row[\"birthday\"], \"%Y-%m-%d\")\n",
    "        birthday_list.append((birth, name))\n",
    "\n",
    "# 생일이 늦을수록 우선순위가 높도록 음수 처리\n",
    "heap = Heap()\n",
    "for birth, name in birthday_list:\n",
    "    heap.insert((-birth.timestamp(), name))  # 힙은 최소힙 기준\n",
    "\n",
    "# 생일이 느린 순서대로 10명 출력\n",
    "print(\"생일이 느린 순서 Top 10:\")\n",
    "for _ in range(10):\n",
    "    if heap.isEmpty():\n",
    "        break\n",
    "    birth_ts, name = heap.remove()\n",
    "    birth = datetime.fromtimestamp(-birth_ts)\n",
    "    print(f\"{name}: {birth.date()}\")\n"
   ]
  },
  {
   "cell_type": "markdown",
   "id": "da20ac76",
   "metadata": {},
   "source": [
    "## 4. 같은 조 친구들만 이름과 생년월일 출력"
   ]
  },
  {
   "cell_type": "code",
   "execution_count": null,
   "id": "6d234019",
   "metadata": {},
   "outputs": [],
   "source": [
    "\n",
    "my_group = {'권보은', '김승연', '이서영', '이아현', '임성민', '은유빈', '이예은', '정예은', '김주원', '서홍빈'}\n",
    "\n",
    "cdll = CircularDoublyLinkedList()\n",
    "with open(\"DS_Birthdaydata - 시트1.csv\", encoding=\"utf-8\") as file:\n",
    "    reader = csv.DictReader(file)\n",
    "    for row in reader:\n",
    "        cdll.insertLast((row[\"name\"], row[\"birthday\"]))\n",
    "\n",
    "print(\"같은 조 친구들 생일:\")\n",
    "cdll_node = cdll.tail.next\n",
    "for _ in range(cdll.size):\n",
    "    name, birthday = cdll_node.elem\n",
    "    if name in my_group:\n",
    "        print(f\"{name}: {birthday}\")\n",
    "    cdll_node = cdll_node.next\n"
   ]
  },
  {
   "cell_type": "markdown",
   "id": "95865e09",
   "metadata": {},
   "source": [
    "## 5. 교재 8장 우선 순위 큐 연습문제"
   ]
  },
  {
   "cell_type": "markdown",
   "id": "d9f74fc4",
   "metadata": {},
   "source": [
    "**01.**\n",
    "예, 최대 힙에서는 부모가 자식보다 크기만 하면 되므로, 깊은 위치에 있는 원소가 더 작을 수도 있습니다.\n",
    "\n",
    "**02.**\n",
    "아닙니다. A[n-1]은 단순히 마지막에 위치한 원소일 뿐, 항상 가장 작다는 보장은 없습니다.\n",
    "\n",
    "**03.**\n",
    "리프 노드는 스며내리기를 할 필요가 없으므로 약 절반인 ⌊n/2⌋개는 검사하지 않습니다.\n",
    "\n",
    "**04.**\n",
    "최악의 경우 시간은 Θ(log n), 최선의 경우 시간도 Θ(log n)입니다.\n",
    "\n",
    "**05.**\n",
    "네, 맨 마지막 원소는 단순히 삭제만 하면 되므로 간단합니다.\n",
    "\n",
    "**06.**\n",
    "아닙니다. 반대 방향(스며오르기)은 Θ(n log n) 시간 복잡도를 가지므로 비효율적입니다.\n",
    "\n",
    "**07.**\n",
    "값이 증가했다면, 해당 노드를 부모와 비교하면서 스며오르기를 통해 위치를 조정하면 됩니다. 시간 복잡도는 O(log n)입니다."
   ]
  },
  {
   "cell_type": "markdown",
   "id": "37c8cbab",
   "metadata": {},
   "source": [
    "## 6. LeetCode 703 - Kth Largest Element in a Stream"
   ]
  },
  {
   "cell_type": "code",
   "execution_count": null,
   "id": "58627195",
   "metadata": {},
   "outputs": [],
   "source": [
    "\n",
    "import heapq\n",
    "\n",
    "class KthLargest:\n",
    "    def __init__(self, k, nums):\n",
    "        self.k = k\n",
    "        self.heap = nums\n",
    "        heapq.heapify(self.heap)\n",
    "        while len(self.heap) > k:\n",
    "            heapq.heappop(self.heap)\n",
    "\n",
    "    def add(self, val):\n",
    "        heapq.heappush(self.heap, val)\n",
    "        if len(self.heap) > self.k:\n",
    "            heapq.heappop(self.heap)\n",
    "        return self.heap[0]\n",
    "\n",
    "# 테스트\n",
    "kth = KthLargest(3, [4, 5, 8, 2])\n",
    "print(kth.add(3))  # 4\n",
    "print(kth.add(5))  # 5\n",
    "print(kth.add(10)) # 5\n",
    "print(kth.add(9))  # 8\n",
    "print(kth.add(4))  # 8\n"
   ]
  }
 ],
 "metadata": {},
 "nbformat": 4,
 "nbformat_minor": 5
}